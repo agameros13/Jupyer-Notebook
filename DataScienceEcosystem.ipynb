{
 "cells": [
  {
   "cell_type": "markdown",
   "id": "3b50faa9-8dd0-4d1c-b94d-5df3db4d88b9",
   "metadata": {
    "tags": []
   },
   "source": [
    "#  Data Science Tools and Ecosystem"
   ]
  },
  {
   "cell_type": "markdown",
   "id": "fc71c2c9-c7f9-4baf-bc42-e3114e66d952",
   "metadata": {},
   "source": [
    "In this notebook, Data Science Tools and Ecosystem are summarized.  \n",
    "**Objectives:**\n",
    "- List popular languages for data science\n",
    "- Understand important libraries used in the field of data science\n",
    "- Understand basic arithmetic using markdown"
   ]
  },
  {
   "cell_type": "markdown",
   "id": "59c7ff53-a0dc-4d95-a7df-2ac64c29dbd6",
   "metadata": {
    "tags": []
   },
   "source": [
    "Some of the popular languages that Data Scientists use are:\n",
    "1. Python\n",
    "2. R\n",
    "3. Scala\n",
    "    "
   ]
  },
  {
   "cell_type": "markdown",
   "id": "a905d721-d4bf-48a1-a7f2-1c7cb1f95541",
   "metadata": {},
   "source": [
    " Some of the commonly used libraries used by Data Scientists include:\n",
    " 1. NumPy\n",
    " 2. Matplotlib\n",
    " 3. ggplot2\n",
    " "
   ]
  },
  {
   "cell_type": "markdown",
   "id": "756d2d9e-75cd-4dca-8625-d3afce60f524",
   "metadata": {},
   "source": [
    "|Data Science Tools|\n",
    "|------------------|\n",
    "|Jupyter Notebooks|\n",
    "|RStudio|\n",
    "|VS Code|"
   ]
  },
  {
   "cell_type": "markdown",
   "id": "782a90ec-ca94-4316-9b46-20f6112fc79e",
   "metadata": {},
   "source": [
    "###  Below are a few examples of evaluating arithmetic expressions in Python\n",
    "1. Addition (+)\n",
    "2. Subtraction (-)\n",
    "3. Multiplication (*)\n",
    "4. Division (/)\n",
    "5. Exponent (**)"
   ]
  },
  {
   "cell_type": "code",
   "execution_count": 1,
   "id": "c863361f-1f5b-4b05-80e0-cde6bc605307",
   "metadata": {
    "tags": []
   },
   "outputs": [
    {
     "data": {
      "text/plain": [
       "17"
      ]
     },
     "execution_count": 1,
     "metadata": {},
     "output_type": "execute_result"
    }
   ],
   "source": [
    "# This a simple arithmetic expression to mutiply then add integers\n",
    "(3*4)+5"
   ]
  },
  {
   "cell_type": "code",
   "execution_count": 2,
   "id": "988149e9-5173-4102-90fb-ccfa96ad7878",
   "metadata": {},
   "outputs": [
    {
     "data": {
      "text/plain": [
       "3.3333333333333335"
      ]
     },
     "execution_count": 2,
     "metadata": {},
     "output_type": "execute_result"
    }
   ],
   "source": [
    "#This will convert 200 minutes to hours by diving by 60\n",
    "200/60"
   ]
  },
  {
   "cell_type": "markdown",
   "id": "eb269e9f-cde7-48b5-bd15-fa2e4c4a98c0",
   "metadata": {
    "tags": []
   },
   "source": [
    "# H2: Author  \n",
    "Andrea Gameros"
   ]
  },
  {
   "cell_type": "code",
   "execution_count": null,
   "id": "13cd1b2f-2b6c-4773-9a35-aa5989ac1fd5",
   "metadata": {},
   "outputs": [],
   "source": []
  }
 ],
 "metadata": {
  "kernelspec": {
   "display_name": "Python 3 (ipykernel)",
   "language": "python",
   "name": "python3"
  },
  "language_info": {
   "codemirror_mode": {
    "name": "ipython",
    "version": 3
   },
   "file_extension": ".py",
   "mimetype": "text/x-python",
   "name": "python",
   "nbconvert_exporter": "python",
   "pygments_lexer": "ipython3",
   "version": "3.11.5"
  }
 },
 "nbformat": 4,
 "nbformat_minor": 5
}
